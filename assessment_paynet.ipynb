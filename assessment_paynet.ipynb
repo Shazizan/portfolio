{
  "nbformat": 4,
  "nbformat_minor": 0,
  "metadata": {
    "colab": {
      "provenance": [],
      "authorship_tag": "ABX9TyOBwHZv2/XmMHVyshhifjaO",
      "include_colab_link": true
    },
    "kernelspec": {
      "name": "python3",
      "display_name": "Python 3"
    },
    "language_info": {
      "name": "python"
    }
  },
  "cells": [
    {
      "cell_type": "markdown",
      "metadata": {
        "id": "view-in-github",
        "colab_type": "text"
      },
      "source": [
        "<a href=\"https://colab.research.google.com/github/Shazizan/portfolio/blob/master/assessment_paynet.ipynb\" target=\"_parent\"><img src=\"https://colab.research.google.com/assets/colab-badge.svg\" alt=\"Open In Colab\"/></a>"
      ]
    },
    {
      "cell_type": "markdown",
      "source": [
        "##Summary:\n",
        "\n",
        "Setup PySpark in Google Colab\n",
        "\n",
        "Start a Spark Session\n",
        "\n",
        "Upload Dataset\n",
        "\n",
        "Read the Dataset with PySpark\n",
        "\n",
        "Understand the Data\n",
        "\n",
        "Data Cleaning & Transformation\n",
        " - handling missing value\n",
        "\n",
        "Handle PII Data\n",
        " - masked the PII column\n",
        " - drop the original PII column\n",
        " - check the count for customer without exposing the PII data\n",
        "\n",
        "Flatten the data (conduct the inspection whether if needed)\n",
        "\n",
        "Data Visualisation\n",
        " - Total Transaction Amount by Income Category\n",
        " - Number of Customer by Income Category"
      ],
      "metadata": {
        "id": "uXPlHbxqNZkK"
      }
    },
    {
      "cell_type": "markdown",
      "source": [
        "##Setup PySpark in Google Colab"
      ],
      "metadata": {
        "id": "qMsjbgr3rzCs"
      }
    },
    {
      "cell_type": "markdown",
      "source": [
        "Since Google Colab doesn't have PySpark pre-installed, so first, I need to install and configure it."
      ],
      "metadata": {
        "id": "byUEkahQssp2"
      }
    },
    {
      "cell_type": "code",
      "source": [
        "# Install Java and Spark\n",
        "!apt-get install openjdk-8-jdk-headless -qq > /dev/null\n",
        "!wget -q http://apache.mirror.digitalpacific.com.au/spark/spark-3.3.2/spark-3.3.2-bin-hadoop3.tgz\n",
        "!tar xf spark-3.3.2-bin-hadoop3.tgz\n",
        "!pip install -q findspark\n",
        "\n",
        "import os\n",
        "os.environ[\"JAVA_HOME\"] = \"/usr/lib/jvm/java-8-openjdk-amd64\"\n",
        "os.environ[\"SPARK_HOME\"] = \"/content/spark-3.3.2-bin-hadoop3\"\n",
        "\n",
        "import findspark\n",
        "findspark.init()"
      ],
      "metadata": {
        "id": "6vsrlkDhr9lo"
      },
      "execution_count": 49,
      "outputs": []
    },
    {
      "cell_type": "markdown",
      "source": [
        "##Start a Spark Session"
      ],
      "metadata": {
        "id": "LzEVC5Fvsaah"
      }
    },
    {
      "cell_type": "markdown",
      "source": [
        "This will let me use Pyspark in Colab"
      ],
      "metadata": {
        "id": "FvyjrNCTsgPJ"
      }
    },
    {
      "cell_type": "code",
      "source": [
        "from pyspark.sql import SparkSession\n",
        "\n",
        "spark = SparkSession.builder.master(\"local[*]\").getOrCreate()"
      ],
      "metadata": {
        "id": "RMIHbqKHsU7i"
      },
      "execution_count": 50,
      "outputs": []
    },
    {
      "cell_type": "markdown",
      "source": [
        "##Upload Dataset"
      ],
      "metadata": {
        "id": "0bleO5rMs7pg"
      }
    },
    {
      "cell_type": "markdown",
      "source": [
        "Upload the dataset that I've chosen from the Kaggle"
      ],
      "metadata": {
        "id": "BPoT3x1ns-sQ"
      }
    },
    {
      "cell_type": "code",
      "source": [
        "from google.colab import files\n",
        "\n",
        "uploaded = files.upload()"
      ],
      "metadata": {
        "colab": {
          "base_uri": "https://localhost:8080/",
          "height": 74
        },
        "id": "GVvM8i_KtGCF",
        "outputId": "283a8e81-cb7a-401f-cb6f-7f98e3ecfe34"
      },
      "execution_count": 51,
      "outputs": [
        {
          "output_type": "display_data",
          "data": {
            "text/plain": [
              "<IPython.core.display.HTML object>"
            ],
            "text/html": [
              "\n",
              "     <input type=\"file\" id=\"files-0d51a6de-11d7-4908-8b61-ad959ecee61d\" name=\"files[]\" multiple disabled\n",
              "        style=\"border:none\" />\n",
              "     <output id=\"result-0d51a6de-11d7-4908-8b61-ad959ecee61d\">\n",
              "      Upload widget is only available when the cell has been executed in the\n",
              "      current browser session. Please rerun this cell to enable.\n",
              "      </output>\n",
              "      <script>// Copyright 2017 Google LLC\n",
              "//\n",
              "// Licensed under the Apache License, Version 2.0 (the \"License\");\n",
              "// you may not use this file except in compliance with the License.\n",
              "// You may obtain a copy of the License at\n",
              "//\n",
              "//      http://www.apache.org/licenses/LICENSE-2.0\n",
              "//\n",
              "// Unless required by applicable law or agreed to in writing, software\n",
              "// distributed under the License is distributed on an \"AS IS\" BASIS,\n",
              "// WITHOUT WARRANTIES OR CONDITIONS OF ANY KIND, either express or implied.\n",
              "// See the License for the specific language governing permissions and\n",
              "// limitations under the License.\n",
              "\n",
              "/**\n",
              " * @fileoverview Helpers for google.colab Python module.\n",
              " */\n",
              "(function(scope) {\n",
              "function span(text, styleAttributes = {}) {\n",
              "  const element = document.createElement('span');\n",
              "  element.textContent = text;\n",
              "  for (const key of Object.keys(styleAttributes)) {\n",
              "    element.style[key] = styleAttributes[key];\n",
              "  }\n",
              "  return element;\n",
              "}\n",
              "\n",
              "// Max number of bytes which will be uploaded at a time.\n",
              "const MAX_PAYLOAD_SIZE = 100 * 1024;\n",
              "\n",
              "function _uploadFiles(inputId, outputId) {\n",
              "  const steps = uploadFilesStep(inputId, outputId);\n",
              "  const outputElement = document.getElementById(outputId);\n",
              "  // Cache steps on the outputElement to make it available for the next call\n",
              "  // to uploadFilesContinue from Python.\n",
              "  outputElement.steps = steps;\n",
              "\n",
              "  return _uploadFilesContinue(outputId);\n",
              "}\n",
              "\n",
              "// This is roughly an async generator (not supported in the browser yet),\n",
              "// where there are multiple asynchronous steps and the Python side is going\n",
              "// to poll for completion of each step.\n",
              "// This uses a Promise to block the python side on completion of each step,\n",
              "// then passes the result of the previous step as the input to the next step.\n",
              "function _uploadFilesContinue(outputId) {\n",
              "  const outputElement = document.getElementById(outputId);\n",
              "  const steps = outputElement.steps;\n",
              "\n",
              "  const next = steps.next(outputElement.lastPromiseValue);\n",
              "  return Promise.resolve(next.value.promise).then((value) => {\n",
              "    // Cache the last promise value to make it available to the next\n",
              "    // step of the generator.\n",
              "    outputElement.lastPromiseValue = value;\n",
              "    return next.value.response;\n",
              "  });\n",
              "}\n",
              "\n",
              "/**\n",
              " * Generator function which is called between each async step of the upload\n",
              " * process.\n",
              " * @param {string} inputId Element ID of the input file picker element.\n",
              " * @param {string} outputId Element ID of the output display.\n",
              " * @return {!Iterable<!Object>} Iterable of next steps.\n",
              " */\n",
              "function* uploadFilesStep(inputId, outputId) {\n",
              "  const inputElement = document.getElementById(inputId);\n",
              "  inputElement.disabled = false;\n",
              "\n",
              "  const outputElement = document.getElementById(outputId);\n",
              "  outputElement.innerHTML = '';\n",
              "\n",
              "  const pickedPromise = new Promise((resolve) => {\n",
              "    inputElement.addEventListener('change', (e) => {\n",
              "      resolve(e.target.files);\n",
              "    });\n",
              "  });\n",
              "\n",
              "  const cancel = document.createElement('button');\n",
              "  inputElement.parentElement.appendChild(cancel);\n",
              "  cancel.textContent = 'Cancel upload';\n",
              "  const cancelPromise = new Promise((resolve) => {\n",
              "    cancel.onclick = () => {\n",
              "      resolve(null);\n",
              "    };\n",
              "  });\n",
              "\n",
              "  // Wait for the user to pick the files.\n",
              "  const files = yield {\n",
              "    promise: Promise.race([pickedPromise, cancelPromise]),\n",
              "    response: {\n",
              "      action: 'starting',\n",
              "    }\n",
              "  };\n",
              "\n",
              "  cancel.remove();\n",
              "\n",
              "  // Disable the input element since further picks are not allowed.\n",
              "  inputElement.disabled = true;\n",
              "\n",
              "  if (!files) {\n",
              "    return {\n",
              "      response: {\n",
              "        action: 'complete',\n",
              "      }\n",
              "    };\n",
              "  }\n",
              "\n",
              "  for (const file of files) {\n",
              "    const li = document.createElement('li');\n",
              "    li.append(span(file.name, {fontWeight: 'bold'}));\n",
              "    li.append(span(\n",
              "        `(${file.type || 'n/a'}) - ${file.size} bytes, ` +\n",
              "        `last modified: ${\n",
              "            file.lastModifiedDate ? file.lastModifiedDate.toLocaleDateString() :\n",
              "                                    'n/a'} - `));\n",
              "    const percent = span('0% done');\n",
              "    li.appendChild(percent);\n",
              "\n",
              "    outputElement.appendChild(li);\n",
              "\n",
              "    const fileDataPromise = new Promise((resolve) => {\n",
              "      const reader = new FileReader();\n",
              "      reader.onload = (e) => {\n",
              "        resolve(e.target.result);\n",
              "      };\n",
              "      reader.readAsArrayBuffer(file);\n",
              "    });\n",
              "    // Wait for the data to be ready.\n",
              "    let fileData = yield {\n",
              "      promise: fileDataPromise,\n",
              "      response: {\n",
              "        action: 'continue',\n",
              "      }\n",
              "    };\n",
              "\n",
              "    // Use a chunked sending to avoid message size limits. See b/62115660.\n",
              "    let position = 0;\n",
              "    do {\n",
              "      const length = Math.min(fileData.byteLength - position, MAX_PAYLOAD_SIZE);\n",
              "      const chunk = new Uint8Array(fileData, position, length);\n",
              "      position += length;\n",
              "\n",
              "      const base64 = btoa(String.fromCharCode.apply(null, chunk));\n",
              "      yield {\n",
              "        response: {\n",
              "          action: 'append',\n",
              "          file: file.name,\n",
              "          data: base64,\n",
              "        },\n",
              "      };\n",
              "\n",
              "      let percentDone = fileData.byteLength === 0 ?\n",
              "          100 :\n",
              "          Math.round((position / fileData.byteLength) * 100);\n",
              "      percent.textContent = `${percentDone}% done`;\n",
              "\n",
              "    } while (position < fileData.byteLength);\n",
              "  }\n",
              "\n",
              "  // All done.\n",
              "  yield {\n",
              "    response: {\n",
              "      action: 'complete',\n",
              "    }\n",
              "  };\n",
              "}\n",
              "\n",
              "scope.google = scope.google || {};\n",
              "scope.google.colab = scope.google.colab || {};\n",
              "scope.google.colab._files = {\n",
              "  _uploadFiles,\n",
              "  _uploadFilesContinue,\n",
              "};\n",
              "})(self);\n",
              "</script> "
            ]
          },
          "metadata": {}
        },
        {
          "output_type": "stream",
          "name": "stdout",
          "text": [
            "Saving BankChurners.csv to BankChurners (1).csv\n"
          ]
        }
      ]
    },
    {
      "cell_type": "markdown",
      "source": [
        "##Read the Dataset with PySpark"
      ],
      "metadata": {
        "id": "ioxo-V5otoTW"
      }
    },
    {
      "cell_type": "code",
      "source": [
        "file_name = list(uploaded.keys())[0]\n",
        "\n",
        "df = spark.read.csv(file_name, header=True, inferSchema=True)\n",
        "df.show(5)"
      ],
      "metadata": {
        "colab": {
          "base_uri": "https://localhost:8080/"
        },
        "id": "tWzKe6bttp71",
        "outputId": "8ababff7-2938-4c6c-da0f-411b1f10af0b"
      },
      "execution_count": 52,
      "outputs": [
        {
          "output_type": "stream",
          "name": "stdout",
          "text": [
            "+---------+-----------------+------------+------+---------------+---------------+--------------+---------------+-------------+--------------+------------------------+----------------------+---------------------+------------+-------------------+---------------+--------------------+---------------+--------------+-------------------+---------------------+----------------------------------------------------------------------------------------------------------------------------------+----------------------------------------------------------------------------------------------------------------------------------+\n",
            "|CLIENTNUM|   Attrition_Flag|Customer_Age|Gender|Dependent_count|Education_Level|Marital_Status|Income_Category|Card_Category|Months_on_book|Total_Relationship_Count|Months_Inactive_12_mon|Contacts_Count_12_mon|Credit_Limit|Total_Revolving_Bal|Avg_Open_To_Buy|Total_Amt_Chng_Q4_Q1|Total_Trans_Amt|Total_Trans_Ct|Total_Ct_Chng_Q4_Q1|Avg_Utilization_Ratio|Naive_Bayes_Classifier_Attrition_Flag_Card_Category_Contacts_Count_12_mon_Dependent_count_Education_Level_Months_Inactive_12_mon_1|Naive_Bayes_Classifier_Attrition_Flag_Card_Category_Contacts_Count_12_mon_Dependent_count_Education_Level_Months_Inactive_12_mon_2|\n",
            "+---------+-----------------+------------+------+---------------+---------------+--------------+---------------+-------------+--------------+------------------------+----------------------+---------------------+------------+-------------------+---------------+--------------------+---------------+--------------+-------------------+---------------------+----------------------------------------------------------------------------------------------------------------------------------+----------------------------------------------------------------------------------------------------------------------------------+\n",
            "|768805383|Existing Customer|          45|     M|              3|    High School|       Married|    $60K - $80K|         Blue|            39|                       5|                     1|                    3|     12691.0|                777|        11914.0|               1.335|           1144|            42|              1.625|                0.061|                                                                                                                         9.3448E-5|                                                                                                                           0.99991|\n",
            "|818770008|Existing Customer|          49|     F|              5|       Graduate|        Single| Less than $40K|         Blue|            44|                       6|                     1|                    2|      8256.0|                864|         7392.0|               1.541|           1291|            33|              3.714|                0.105|                                                                                                                         5.6861E-5|                                                                                                                           0.99994|\n",
            "|713982108|Existing Customer|          51|     M|              3|       Graduate|       Married|   $80K - $120K|         Blue|            36|                       4|                     1|                    0|      3418.0|                  0|         3418.0|               2.594|           1887|            20|              2.333|                  0.0|                                                                                                                         2.1081E-5|                                                                                                                           0.99998|\n",
            "|769911858|Existing Customer|          40|     F|              4|    High School|       Unknown| Less than $40K|         Blue|            34|                       3|                     4|                    1|      3313.0|               2517|          796.0|               1.405|           1171|            20|              2.333|                 0.76|                                                                                                                         1.3366E-4|                                                                                                                           0.99987|\n",
            "|709106358|Existing Customer|          40|     M|              3|     Uneducated|       Married|    $60K - $80K|         Blue|            21|                       5|                     1|                    0|      4716.0|                  0|         4716.0|               2.175|            816|            28|                2.5|                  0.0|                                                                                                                         2.1676E-5|                                                                                                                           0.99998|\n",
            "+---------+-----------------+------------+------+---------------+---------------+--------------+---------------+-------------+--------------+------------------------+----------------------+---------------------+------------+-------------------+---------------+--------------------+---------------+--------------+-------------------+---------------------+----------------------------------------------------------------------------------------------------------------------------------+----------------------------------------------------------------------------------------------------------------------------------+\n",
            "only showing top 5 rows\n",
            "\n"
          ]
        }
      ]
    },
    {
      "cell_type": "markdown",
      "source": [
        "##Understand the Data"
      ],
      "metadata": {
        "id": "JVm03qD9umwV"
      }
    },
    {
      "cell_type": "markdown",
      "source": [
        "Here is to get schema and count to understand columns and data types.\n",
        "We could see that the structure of our column (no nested column)"
      ],
      "metadata": {
        "id": "tqUuxpztux0d"
      }
    },
    {
      "cell_type": "code",
      "source": [
        "df.printSchema()\n",
        "print(f\"Number of rows: {df.count()}\")"
      ],
      "metadata": {
        "colab": {
          "base_uri": "https://localhost:8080/"
        },
        "id": "0ZcZNdJsuqyd",
        "outputId": "3db3214e-3339-4c7c-9a61-9c1318ffbece"
      },
      "execution_count": 53,
      "outputs": [
        {
          "output_type": "stream",
          "name": "stdout",
          "text": [
            "root\n",
            " |-- CLIENTNUM: integer (nullable = true)\n",
            " |-- Attrition_Flag: string (nullable = true)\n",
            " |-- Customer_Age: integer (nullable = true)\n",
            " |-- Gender: string (nullable = true)\n",
            " |-- Dependent_count: integer (nullable = true)\n",
            " |-- Education_Level: string (nullable = true)\n",
            " |-- Marital_Status: string (nullable = true)\n",
            " |-- Income_Category: string (nullable = true)\n",
            " |-- Card_Category: string (nullable = true)\n",
            " |-- Months_on_book: integer (nullable = true)\n",
            " |-- Total_Relationship_Count: integer (nullable = true)\n",
            " |-- Months_Inactive_12_mon: integer (nullable = true)\n",
            " |-- Contacts_Count_12_mon: integer (nullable = true)\n",
            " |-- Credit_Limit: double (nullable = true)\n",
            " |-- Total_Revolving_Bal: integer (nullable = true)\n",
            " |-- Avg_Open_To_Buy: double (nullable = true)\n",
            " |-- Total_Amt_Chng_Q4_Q1: double (nullable = true)\n",
            " |-- Total_Trans_Amt: integer (nullable = true)\n",
            " |-- Total_Trans_Ct: integer (nullable = true)\n",
            " |-- Total_Ct_Chng_Q4_Q1: double (nullable = true)\n",
            " |-- Avg_Utilization_Ratio: double (nullable = true)\n",
            " |-- Naive_Bayes_Classifier_Attrition_Flag_Card_Category_Contacts_Count_12_mon_Dependent_count_Education_Level_Months_Inactive_12_mon_1: double (nullable = true)\n",
            " |-- Naive_Bayes_Classifier_Attrition_Flag_Card_Category_Contacts_Count_12_mon_Dependent_count_Education_Level_Months_Inactive_12_mon_2: double (nullable = true)\n",
            "\n",
            "Number of rows: 10127\n"
          ]
        }
      ]
    },
    {
      "cell_type": "markdown",
      "source": [
        "##Data Cleaning & Transformation"
      ],
      "metadata": {
        "id": "QiSlE2h8u9eC"
      }
    },
    {
      "cell_type": "markdown",
      "source": [
        "Handling missing value"
      ],
      "metadata": {
        "id": "9NguxcExvDR2"
      }
    },
    {
      "cell_type": "code",
      "source": [
        "from pyspark.sql.functions import col\n",
        "\n",
        "# Count nulls per column\n",
        "df.select([\n",
        "    (col(c).isNull().cast(\"int\")).alias(c) for c in df.columns\n",
        "]).show(5)"
      ],
      "metadata": {
        "colab": {
          "base_uri": "https://localhost:8080/"
        },
        "id": "9LXjSwgWu_EI",
        "outputId": "fa2a3d05-b385-4db4-973d-c7ce21151bf4"
      },
      "execution_count": 54,
      "outputs": [
        {
          "output_type": "stream",
          "name": "stdout",
          "text": [
            "+---------+--------------+------------+------+---------------+---------------+--------------+---------------+-------------+--------------+------------------------+----------------------+---------------------+------------+-------------------+---------------+--------------------+---------------+--------------+-------------------+---------------------+----------------------------------------------------------------------------------------------------------------------------------+----------------------------------------------------------------------------------------------------------------------------------+\n",
            "|CLIENTNUM|Attrition_Flag|Customer_Age|Gender|Dependent_count|Education_Level|Marital_Status|Income_Category|Card_Category|Months_on_book|Total_Relationship_Count|Months_Inactive_12_mon|Contacts_Count_12_mon|Credit_Limit|Total_Revolving_Bal|Avg_Open_To_Buy|Total_Amt_Chng_Q4_Q1|Total_Trans_Amt|Total_Trans_Ct|Total_Ct_Chng_Q4_Q1|Avg_Utilization_Ratio|Naive_Bayes_Classifier_Attrition_Flag_Card_Category_Contacts_Count_12_mon_Dependent_count_Education_Level_Months_Inactive_12_mon_1|Naive_Bayes_Classifier_Attrition_Flag_Card_Category_Contacts_Count_12_mon_Dependent_count_Education_Level_Months_Inactive_12_mon_2|\n",
            "+---------+--------------+------------+------+---------------+---------------+--------------+---------------+-------------+--------------+------------------------+----------------------+---------------------+------------+-------------------+---------------+--------------------+---------------+--------------+-------------------+---------------------+----------------------------------------------------------------------------------------------------------------------------------+----------------------------------------------------------------------------------------------------------------------------------+\n",
            "|        0|             0|           0|     0|              0|              0|             0|              0|            0|             0|                       0|                     0|                    0|           0|                  0|              0|                   0|              0|             0|                  0|                    0|                                                                                                                                 0|                                                                                                                                 0|\n",
            "|        0|             0|           0|     0|              0|              0|             0|              0|            0|             0|                       0|                     0|                    0|           0|                  0|              0|                   0|              0|             0|                  0|                    0|                                                                                                                                 0|                                                                                                                                 0|\n",
            "|        0|             0|           0|     0|              0|              0|             0|              0|            0|             0|                       0|                     0|                    0|           0|                  0|              0|                   0|              0|             0|                  0|                    0|                                                                                                                                 0|                                                                                                                                 0|\n",
            "|        0|             0|           0|     0|              0|              0|             0|              0|            0|             0|                       0|                     0|                    0|           0|                  0|              0|                   0|              0|             0|                  0|                    0|                                                                                                                                 0|                                                                                                                                 0|\n",
            "|        0|             0|           0|     0|              0|              0|             0|              0|            0|             0|                       0|                     0|                    0|           0|                  0|              0|                   0|              0|             0|                  0|                    0|                                                                                                                                 0|                                                                                                                                 0|\n",
            "+---------+--------------+------------+------+---------------+---------------+--------------+---------------+-------------+--------------+------------------------+----------------------+---------------------+------------+-------------------+---------------+--------------------+---------------+--------------+-------------------+---------------------+----------------------------------------------------------------------------------------------------------------------------------+----------------------------------------------------------------------------------------------------------------------------------+\n",
            "only showing top 5 rows\n",
            "\n"
          ]
        }
      ]
    },
    {
      "cell_type": "markdown",
      "source": [
        "Fill the null value\n",
        "\n",
        "-It fills null or missing values in the column Income_Category with the string \"Unknown\".\n",
        "\n",
        "-It also fills missing values in Marital_Status with \"Unknown\".\n",
        "\n",
        "-Other columns stay as-is (missing values remain untouched)"
      ],
      "metadata": {
        "id": "YYyxQpflwydI"
      }
    },
    {
      "cell_type": "code",
      "source": [
        "df_clean = df.na.fill({\"Income_Category\": \"Unknown\", \"Marital_Status\": \"Unknown\"})"
      ],
      "metadata": {
        "id": "VeDCFHqkvuYs"
      },
      "execution_count": 55,
      "outputs": []
    },
    {
      "cell_type": "code",
      "source": [
        "df_clean.show(5)"
      ],
      "metadata": {
        "colab": {
          "base_uri": "https://localhost:8080/"
        },
        "id": "60RW0Ob8x8li",
        "outputId": "636e68ad-e5a1-45bf-a398-29d4875dcc30"
      },
      "execution_count": 56,
      "outputs": [
        {
          "output_type": "stream",
          "name": "stdout",
          "text": [
            "+---------+-----------------+------------+------+---------------+---------------+--------------+---------------+-------------+--------------+------------------------+----------------------+---------------------+------------+-------------------+---------------+--------------------+---------------+--------------+-------------------+---------------------+----------------------------------------------------------------------------------------------------------------------------------+----------------------------------------------------------------------------------------------------------------------------------+\n",
            "|CLIENTNUM|   Attrition_Flag|Customer_Age|Gender|Dependent_count|Education_Level|Marital_Status|Income_Category|Card_Category|Months_on_book|Total_Relationship_Count|Months_Inactive_12_mon|Contacts_Count_12_mon|Credit_Limit|Total_Revolving_Bal|Avg_Open_To_Buy|Total_Amt_Chng_Q4_Q1|Total_Trans_Amt|Total_Trans_Ct|Total_Ct_Chng_Q4_Q1|Avg_Utilization_Ratio|Naive_Bayes_Classifier_Attrition_Flag_Card_Category_Contacts_Count_12_mon_Dependent_count_Education_Level_Months_Inactive_12_mon_1|Naive_Bayes_Classifier_Attrition_Flag_Card_Category_Contacts_Count_12_mon_Dependent_count_Education_Level_Months_Inactive_12_mon_2|\n",
            "+---------+-----------------+------------+------+---------------+---------------+--------------+---------------+-------------+--------------+------------------------+----------------------+---------------------+------------+-------------------+---------------+--------------------+---------------+--------------+-------------------+---------------------+----------------------------------------------------------------------------------------------------------------------------------+----------------------------------------------------------------------------------------------------------------------------------+\n",
            "|768805383|Existing Customer|          45|     M|              3|    High School|       Married|    $60K - $80K|         Blue|            39|                       5|                     1|                    3|     12691.0|                777|        11914.0|               1.335|           1144|            42|              1.625|                0.061|                                                                                                                         9.3448E-5|                                                                                                                           0.99991|\n",
            "|818770008|Existing Customer|          49|     F|              5|       Graduate|        Single| Less than $40K|         Blue|            44|                       6|                     1|                    2|      8256.0|                864|         7392.0|               1.541|           1291|            33|              3.714|                0.105|                                                                                                                         5.6861E-5|                                                                                                                           0.99994|\n",
            "|713982108|Existing Customer|          51|     M|              3|       Graduate|       Married|   $80K - $120K|         Blue|            36|                       4|                     1|                    0|      3418.0|                  0|         3418.0|               2.594|           1887|            20|              2.333|                  0.0|                                                                                                                         2.1081E-5|                                                                                                                           0.99998|\n",
            "|769911858|Existing Customer|          40|     F|              4|    High School|       Unknown| Less than $40K|         Blue|            34|                       3|                     4|                    1|      3313.0|               2517|          796.0|               1.405|           1171|            20|              2.333|                 0.76|                                                                                                                         1.3366E-4|                                                                                                                           0.99987|\n",
            "|709106358|Existing Customer|          40|     M|              3|     Uneducated|       Married|    $60K - $80K|         Blue|            21|                       5|                     1|                    0|      4716.0|                  0|         4716.0|               2.175|            816|            28|                2.5|                  0.0|                                                                                                                         2.1676E-5|                                                                                                                           0.99998|\n",
            "+---------+-----------------+------------+------+---------------+---------------+--------------+---------------+-------------+--------------+------------------------+----------------------+---------------------+------------+-------------------+---------------+--------------------+---------------+--------------+-------------------+---------------------+----------------------------------------------------------------------------------------------------------------------------------+----------------------------------------------------------------------------------------------------------------------------------+\n",
            "only showing top 5 rows\n",
            "\n"
          ]
        }
      ]
    },
    {
      "cell_type": "markdown",
      "source": [
        "##Handle PII Data"
      ],
      "metadata": {
        "id": "18a4OzKPy8z2"
      }
    },
    {
      "cell_type": "markdown",
      "source": [
        "This will:\n",
        "\n",
        "Convert CLIENTNUM to string\n",
        "\n",
        "Replace all digits except the last 4 with *\n",
        "\n",
        "Show original and masked side by side"
      ],
      "metadata": {
        "id": "fBoVqIojzwSX"
      }
    },
    {
      "cell_type": "code",
      "source": [
        "from pyspark.sql.functions import regexp_replace, col\n",
        "\n",
        "# Mask CLIENTNUM so only last 4 digits are visible\n",
        "df_masked = df.withColumn(\n",
        "    \"CLIENTNUM_masked\",\n",
        "    regexp_replace(col(\"CLIENTNUM\").cast(\"string\"), \".(?=.{4})\", \"*\")\n",
        ")\n",
        "\n",
        "# Show the original and masked values\n",
        "df_masked.select(\"CLIENTNUM\", \"CLIENTNUM_masked\").show(10, truncate=False)\n"
      ],
      "metadata": {
        "colab": {
          "base_uri": "https://localhost:8080/"
        },
        "id": "gJXTLpAZzVJO",
        "outputId": "b97539c5-625c-4542-f8e6-a5844ec97a74"
      },
      "execution_count": 57,
      "outputs": [
        {
          "output_type": "stream",
          "name": "stdout",
          "text": [
            "+---------+----------------+\n",
            "|CLIENTNUM|CLIENTNUM_masked|\n",
            "+---------+----------------+\n",
            "|768805383|*****5383       |\n",
            "|818770008|*****0008       |\n",
            "|713982108|*****2108       |\n",
            "|769911858|*****1858       |\n",
            "|709106358|*****6358       |\n",
            "|713061558|*****1558       |\n",
            "|810347208|*****7208       |\n",
            "|818906208|*****6208       |\n",
            "|710930508|*****0508       |\n",
            "|719661558|*****1558       |\n",
            "+---------+----------------+\n",
            "only showing top 10 rows\n",
            "\n"
          ]
        }
      ]
    },
    {
      "cell_type": "markdown",
      "source": [
        "Drop the original PII column & read the cleaned dataset"
      ],
      "metadata": {
        "id": "ftXXoSIi3UNu"
      }
    },
    {
      "cell_type": "code",
      "source": [
        "from pyspark.sql.functions import col\n",
        "\n",
        "#Drop the original PII column\n",
        "df_no_pii = df_masked.drop(\"CLIENTNUM\")\n",
        "\n",
        "#Show cleaned dataset\n",
        "df_no_pii.show(5)"
      ],
      "metadata": {
        "colab": {
          "base_uri": "https://localhost:8080/"
        },
        "id": "ykiyyUUw2w-8",
        "outputId": "d277ebd2-9df9-4ccf-f900-72687652d692"
      },
      "execution_count": 58,
      "outputs": [
        {
          "output_type": "stream",
          "name": "stdout",
          "text": [
            "+-----------------+------------+------+---------------+---------------+--------------+---------------+-------------+--------------+------------------------+----------------------+---------------------+------------+-------------------+---------------+--------------------+---------------+--------------+-------------------+---------------------+----------------------------------------------------------------------------------------------------------------------------------+----------------------------------------------------------------------------------------------------------------------------------+----------------+\n",
            "|   Attrition_Flag|Customer_Age|Gender|Dependent_count|Education_Level|Marital_Status|Income_Category|Card_Category|Months_on_book|Total_Relationship_Count|Months_Inactive_12_mon|Contacts_Count_12_mon|Credit_Limit|Total_Revolving_Bal|Avg_Open_To_Buy|Total_Amt_Chng_Q4_Q1|Total_Trans_Amt|Total_Trans_Ct|Total_Ct_Chng_Q4_Q1|Avg_Utilization_Ratio|Naive_Bayes_Classifier_Attrition_Flag_Card_Category_Contacts_Count_12_mon_Dependent_count_Education_Level_Months_Inactive_12_mon_1|Naive_Bayes_Classifier_Attrition_Flag_Card_Category_Contacts_Count_12_mon_Dependent_count_Education_Level_Months_Inactive_12_mon_2|CLIENTNUM_masked|\n",
            "+-----------------+------------+------+---------------+---------------+--------------+---------------+-------------+--------------+------------------------+----------------------+---------------------+------------+-------------------+---------------+--------------------+---------------+--------------+-------------------+---------------------+----------------------------------------------------------------------------------------------------------------------------------+----------------------------------------------------------------------------------------------------------------------------------+----------------+\n",
            "|Existing Customer|          45|     M|              3|    High School|       Married|    $60K - $80K|         Blue|            39|                       5|                     1|                    3|     12691.0|                777|        11914.0|               1.335|           1144|            42|              1.625|                0.061|                                                                                                                         9.3448E-5|                                                                                                                           0.99991|       *****5383|\n",
            "|Existing Customer|          49|     F|              5|       Graduate|        Single| Less than $40K|         Blue|            44|                       6|                     1|                    2|      8256.0|                864|         7392.0|               1.541|           1291|            33|              3.714|                0.105|                                                                                                                         5.6861E-5|                                                                                                                           0.99994|       *****0008|\n",
            "|Existing Customer|          51|     M|              3|       Graduate|       Married|   $80K - $120K|         Blue|            36|                       4|                     1|                    0|      3418.0|                  0|         3418.0|               2.594|           1887|            20|              2.333|                  0.0|                                                                                                                         2.1081E-5|                                                                                                                           0.99998|       *****2108|\n",
            "|Existing Customer|          40|     F|              4|    High School|       Unknown| Less than $40K|         Blue|            34|                       3|                     4|                    1|      3313.0|               2517|          796.0|               1.405|           1171|            20|              2.333|                 0.76|                                                                                                                         1.3366E-4|                                                                                                                           0.99987|       *****1858|\n",
            "|Existing Customer|          40|     M|              3|     Uneducated|       Married|    $60K - $80K|         Blue|            21|                       5|                     1|                    0|      4716.0|                  0|         4716.0|               2.175|            816|            28|                2.5|                  0.0|                                                                                                                         2.1676E-5|                                                                                                                           0.99998|       *****6358|\n",
            "+-----------------+------------+------+---------------+---------------+--------------+---------------+-------------+--------------+------------------------+----------------------+---------------------+------------+-------------------+---------------+--------------------+---------------+--------------+-------------------+---------------------+----------------------------------------------------------------------------------------------------------------------------------+----------------------------------------------------------------------------------------------------------------------------------+----------------+\n",
            "only showing top 5 rows\n",
            "\n"
          ]
        }
      ]
    },
    {
      "cell_type": "markdown",
      "source": [
        "Count Customer by income category without exposing PII data"
      ],
      "metadata": {
        "id": "dz2NoX7Z1ep2"
      }
    },
    {
      "cell_type": "code",
      "source": [
        "df_no_pii.groupBy(\"Income_Category\").count().show()"
      ],
      "metadata": {
        "colab": {
          "base_uri": "https://localhost:8080/"
        },
        "id": "98NkiMyw22_W",
        "outputId": "b6bd629d-d213-46ab-d9c1-1d07965677c6"
      },
      "execution_count": 59,
      "outputs": [
        {
          "output_type": "stream",
          "name": "stdout",
          "text": [
            "+---------------+-----+\n",
            "|Income_Category|count|\n",
            "+---------------+-----+\n",
            "|        $120K +|  727|\n",
            "|    $60K - $80K| 1402|\n",
            "|   $80K - $120K| 1535|\n",
            "|        Unknown| 1112|\n",
            "|    $40K - $60K| 1790|\n",
            "| Less than $40K| 3561|\n",
            "+---------------+-----+\n",
            "\n"
          ]
        }
      ]
    },
    {
      "cell_type": "markdown",
      "source": [
        "##Flatten JSON Data (If the data contains nested JSON columns)"
      ],
      "metadata": {
        "id": "x3vvyJzU4nEm"
      }
    },
    {
      "cell_type": "markdown",
      "source": [
        "-To check whether the dataset contains nested JSON columns in PySpark, by  inspect the schema.\n",
        "\n",
        "-If a column is nested, PySpark will show it as a struct, array, or map type."
      ],
      "metadata": {
        "id": "rQ0IgaSV4LsQ"
      }
    },
    {
      "cell_type": "code",
      "source": [
        "df_no_pii.printSchema()"
      ],
      "metadata": {
        "colab": {
          "base_uri": "https://localhost:8080/"
        },
        "id": "JvqU0Egu4JNa",
        "outputId": "012ea0f6-096b-4306-91f3-8c71d65082fb"
      },
      "execution_count": 60,
      "outputs": [
        {
          "output_type": "stream",
          "name": "stdout",
          "text": [
            "root\n",
            " |-- Attrition_Flag: string (nullable = true)\n",
            " |-- Customer_Age: integer (nullable = true)\n",
            " |-- Gender: string (nullable = true)\n",
            " |-- Dependent_count: integer (nullable = true)\n",
            " |-- Education_Level: string (nullable = true)\n",
            " |-- Marital_Status: string (nullable = true)\n",
            " |-- Income_Category: string (nullable = true)\n",
            " |-- Card_Category: string (nullable = true)\n",
            " |-- Months_on_book: integer (nullable = true)\n",
            " |-- Total_Relationship_Count: integer (nullable = true)\n",
            " |-- Months_Inactive_12_mon: integer (nullable = true)\n",
            " |-- Contacts_Count_12_mon: integer (nullable = true)\n",
            " |-- Credit_Limit: double (nullable = true)\n",
            " |-- Total_Revolving_Bal: integer (nullable = true)\n",
            " |-- Avg_Open_To_Buy: double (nullable = true)\n",
            " |-- Total_Amt_Chng_Q4_Q1: double (nullable = true)\n",
            " |-- Total_Trans_Amt: integer (nullable = true)\n",
            " |-- Total_Trans_Ct: integer (nullable = true)\n",
            " |-- Total_Ct_Chng_Q4_Q1: double (nullable = true)\n",
            " |-- Avg_Utilization_Ratio: double (nullable = true)\n",
            " |-- Naive_Bayes_Classifier_Attrition_Flag_Card_Category_Contacts_Count_12_mon_Dependent_count_Education_Level_Months_Inactive_12_mon_1: double (nullable = true)\n",
            " |-- Naive_Bayes_Classifier_Attrition_Flag_Card_Category_Contacts_Count_12_mon_Dependent_count_Education_Level_Months_Inactive_12_mon_2: double (nullable = true)\n",
            " |-- CLIENTNUM_masked: string (nullable = true)\n",
            "\n"
          ]
        }
      ]
    },
    {
      "cell_type": "markdown",
      "source": [
        "Explanation above:\n",
        "There is no nested column in this dataset since the inspection output is showing that all the columns for this dataset are in the proper structure."
      ],
      "metadata": {
        "id": "X254SgeD5yzn"
      }
    },
    {
      "cell_type": "markdown",
      "source": [
        "##Data Visualisation"
      ],
      "metadata": {
        "id": "sTMGj5UI7jQ9"
      }
    },
    {
      "cell_type": "markdown",
      "source": [
        "Visualisation_1 - Total Transaction Amount by Income Category"
      ],
      "metadata": {
        "id": "99uH4_ejNAmk"
      }
    },
    {
      "cell_type": "code",
      "source": [
        "import matplotlib.pyplot as plt\n",
        "\n",
        "# Define the order for the income categories\n",
        "income_order = [\n",
        "    'Less than $40K',\n",
        "    '$40K - $60K',\n",
        "    '$60K - $80K',\n",
        "    '$80K - $120K',\n",
        "    '$120K +',\n",
        "    'Unknown'\n",
        "]\n",
        "\n",
        "# Select only safe, non-PII columns and convert to Pandas\n",
        "pdf = df.select(\"Income_Category\", \"Total_Trans_Amt\").toPandas()\n",
        "\n",
        "# Group and reorder\n",
        "df_grouped = (\n",
        "    pdf.groupby(\"Income_Category\")[\"Total_Trans_Amt\"]\n",
        "    .sum()\n",
        "    .reindex(income_order)  # Apply custom order\n",
        ")\n",
        "\n",
        "# Plot\n",
        "df_grouped.plot(kind=\"bar\", color=\"skyblue\")\n",
        "plt.title(\"Total Transaction Amount by Income Category\")\n",
        "plt.xlabel(\"Income Category\")\n",
        "plt.ylabel(\"Total Transaction Amount\")\n",
        "plt.xticks(rotation=45)\n",
        "plt.tight_layout()\n",
        "plt.show()\n"
      ],
      "metadata": {
        "colab": {
          "base_uri": "https://localhost:8080/",
          "height": 487
        },
        "id": "S6T9a3xt7WX2",
        "outputId": "fc73a0c7-dfd2-428f-eda9-a54b750939c5"
      },
      "execution_count": 63,
      "outputs": [
        {
          "output_type": "display_data",
          "data": {
            "text/plain": [
              "<Figure size 640x480 with 1 Axes>"
            ],
            "image/png": "[encoded data removed]"
          },
          "metadata": {}
        }
      ]
    },
    {
      "cell_type": "markdown",
      "source": [
        "Interpretation 1:\n",
        "\n",
        "The bar chart showns that customers earning less than 40K dolar contribute the most to the total transaction amount, suggesting that despite having lower incomes, they may spend more frequently or make larger purchase in certain categories. In contrast, customers in the 120K+ dolar income category contribute the least, then followed closely by those with an \"Unknown\" income category, which may indicate lower engagement or different spendinf behaviours compared to other groups.\n",
        "\n",
        "\n"
      ],
      "metadata": {
        "id": "eZMDzLay9JE_"
      }
    },
    {
      "cell_type": "markdown",
      "source": [
        "Visualisation_2 - Number of Customer by Income Category"
      ],
      "metadata": {
        "id": "rC_IzLI5NPkM"
      }
    },
    {
      "cell_type": "code",
      "source": [
        "# Define the order for the income categories\n",
        "income_order = [\n",
        "    'Less than $40K',\n",
        "    '$40K - $60K',\n",
        "    '$60K - $80K',\n",
        "    '$80K - $120K',\n",
        "    '$120K +',\n",
        "    'Unknown'\n",
        "]\n",
        "\n",
        "# Drop the original PII column\n",
        "df_no_pii = df_masked.drop(\"CLIENTNUM\")\n",
        "\n",
        "# Count customers per income category\n",
        "df_counts = df_no_pii.groupBy(\"Income_Category\").count()\n",
        "\n",
        "# Convert to Pandas\n",
        "pdf_counts = df_counts.toPandas()\n",
        "\n",
        "# Ensure correct ordering based on income_order\n",
        "pdf_counts['Income_Category'] = pd.Categorical(\n",
        "    pdf_counts['Income_Category'],\n",
        "    categories=income_order,\n",
        "    ordered=True\n",
        ")\n",
        "pdf_counts = pdf_counts.sort_values('Income_Category')\n",
        "\n",
        "# Plot bar chart\n",
        "pdf_counts.plot(kind=\"bar\", x=\"Income_Category\", y=\"count\", legend=False, color=\"skyblue\")\n",
        "plt.title(\"Number of Customers by Income Category\")\n",
        "plt.xlabel(\"Income Category\")\n",
        "plt.ylabel(\"Number of Customers\")\n",
        "plt.xticks(rotation=45)\n",
        "plt.tight_layout()\n",
        "plt.show()\n"
      ],
      "metadata": {
        "colab": {
          "base_uri": "https://localhost:8080/",
          "height": 487
        },
        "id": "A1bqD9D58Dw2",
        "outputId": "a5dfcad8-2ed4-4353-f62e-4b9efef977c0"
      },
      "execution_count": 64,
      "outputs": [
        {
          "output_type": "display_data",
          "data": {
            "text/plain": [
              "<Figure size 640x480 with 1 Axes>"
            ],
            "image/png": "[encoded data removed]"
          },
          "metadata": {}
        }
      ]
    },
    {
      "cell_type": "markdown",
      "source": [
        "Interpretation 2:\n",
        "\n",
        "The chart reveals that the largest group of customers falls under the “Less than 40K dolar” income category, indicating a significant portion of the customer base comes from lower-income segments. On the other end, the “$120K+” group has the smallest number of customers, followed closely by those in the “Unknown” income category, suggesting either limited representation of high-income earners or incomplete data capture for some customers."
      ],
      "metadata": {
        "id": "dxkVDfAN8ngF"
      }
    }
  ]
}