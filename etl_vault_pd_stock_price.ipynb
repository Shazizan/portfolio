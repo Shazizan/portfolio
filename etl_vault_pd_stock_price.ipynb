{
  "nbformat": 4,
  "nbformat_minor": 0,
  "metadata": {
    "colab": {
      "provenance": [],
      "toc_visible": true,
      "authorship_tag": "ABX9TyNL2gsxZsvhlh2rof9Lpx+W",
      "include_colab_link": true
    },
    "kernelspec": {
      "name": "python3",
      "display_name": "Python 3"
    },
    "language_info": {
      "name": "python"
    }
  },
  "cells": [
    {
      "cell_type": "markdown",
      "metadata": {
        "id": "view-in-github",
        "colab_type": "text"
      },
      "source": [
        "<a href=\"https://colab.research.google.com/github/Shazizan/portfolio/blob/master/etl_vault_pd_stock_price.ipynb\" target=\"_parent\"><img src=\"https://colab.research.google.com/assets/colab-badge.svg\" alt=\"Open In Colab\"/></a>"
      ]
    },
    {
      "cell_type": "markdown",
      "source": [
        "# **ETL with Pandas - Fraud Data**"
      ],
      "metadata": {
        "id": "snG8EAMVkvV_"
      }
    },
    {
      "cell_type": "markdown",
      "source": [
        "# **Setup Configuration & Extraction**"
      ],
      "metadata": {
        "id": "JY2FC_a5lGVd"
      }
    },
    {
      "cell_type": "code",
      "execution_count": 8,
      "metadata": {
        "id": "9g3Ow-ryi6jH"
      },
      "outputs": [],
      "source": [
        "import pandas as pd\n",
        "\n",
        "url = \"https://raw.githubusercontent.com/Shazizan/data/refs/heads/master/stock_price.csv\"\n",
        "df = pd.read_csv(url)"
      ]
    },
    {
      "cell_type": "code",
      "source": [
        "print(df)"
      ],
      "metadata": {
        "colab": {
          "base_uri": "https://localhost:8080/"
        },
        "id": "byNt1Myml6xz",
        "outputId": "d878bca4-1ec8-42c1-d519-084abe751e60"
      },
      "execution_count": 10,
      "outputs": [
        {
          "output_type": "stream",
          "name": "stdout",
          "text": [
            "          Date      Close\n",
            "0   2022-01-03  58.099998\n",
            "1   2022-01-04  59.389999\n",
            "2   2022-01-05  58.779999\n",
            "3   2022-01-06  59.360001\n",
            "4   2022-01-07  60.779999\n",
            "5   2022-01-10  60.730000\n",
            "6   2022-01-11  61.130001\n",
            "7   2022-01-12  61.180000\n",
            "8   2022-01-13  61.490002\n",
            "9   2022-01-14  61.630001\n",
            "10  2022-01-18  60.910000\n",
            "11  2022-01-19  59.590000\n",
            "12  2022-01-20  59.090000\n",
            "13  2022-01-21  58.150002\n",
            "14  2022-01-24  58.959999\n",
            "15  2022-01-25  58.320000\n",
            "16  2022-01-26  58.650002\n",
            "17  2022-01-27  58.270000\n",
            "18  2022-01-28  58.889999\n",
            "19  2022-01-31  59.660000\n",
            "20  2022-02-01  60.580002\n",
            "21  2022-02-02  61.389999\n",
            "22  2022-02-03  61.099998\n",
            "23  2022-02-04  61.270000\n"
          ]
        }
      ]
    },
    {
      "cell_type": "markdown",
      "source": [
        "# **Transformation (simple cleaning)**"
      ],
      "metadata": {
        "id": "rQo-7155nnkq"
      }
    },
    {
      "cell_type": "markdown",
      "source": [
        "Transform by applying filter - as our goal is only want the January data."
      ],
      "metadata": {
        "id": "naKuU5G9n0x9"
      }
    },
    {
      "cell_type": "code",
      "source": [
        "# Convert the column to datetime\n",
        "df['Date'] = pd.to_datetime(df['Date'], errors='coerce')"
      ],
      "metadata": {
        "id": "3Z1sRersn8Oe"
      },
      "execution_count": 12,
      "outputs": []
    },
    {
      "cell_type": "markdown",
      "source": [
        "Knowledge:\n",
        "- Need to convert to datetime to avoid pandas mistreat the column as a string\n",
        "- errors='coerce' will turn any invalid date into NaT (missing), so it won’t break the filtering."
      ],
      "metadata": {
        "id": "GQzW9euWq68g"
      }
    },
    {
      "cell_type": "code",
      "source": [
        "# Filter rows where month is January (month == 1)\n",
        "january_data = df[df['Date'].dt.month == 1]\n",
        "\n",
        "# Display the result\n",
        "print(january_data.head())"
      ],
      "metadata": {
        "colab": {
          "base_uri": "https://localhost:8080/"
        },
        "id": "4qCf2siCq_Bw",
        "outputId": "8548331b-85d7-42a2-8e29-28efa432077a"
      },
      "execution_count": 13,
      "outputs": [
        {
          "output_type": "stream",
          "name": "stdout",
          "text": [
            "        Date      Close\n",
            "0 2022-01-03  58.099998\n",
            "1 2022-01-04  59.389999\n",
            "2 2022-01-05  58.779999\n",
            "3 2022-01-06  59.360001\n",
            "4 2022-01-07  60.779999\n"
          ]
        }
      ]
    },
    {
      "cell_type": "code",
      "source": [
        "# Display all rows\n",
        "print(january_data)"
      ],
      "metadata": {
        "colab": {
          "base_uri": "https://localhost:8080/"
        },
        "id": "IDwdJJoZru0Q",
        "outputId": "b9d00221-d699-429c-f79b-c9d54aeb1303"
      },
      "execution_count": 14,
      "outputs": [
        {
          "output_type": "stream",
          "name": "stdout",
          "text": [
            "         Date      Close\n",
            "0  2022-01-03  58.099998\n",
            "1  2022-01-04  59.389999\n",
            "2  2022-01-05  58.779999\n",
            "3  2022-01-06  59.360001\n",
            "4  2022-01-07  60.779999\n",
            "5  2022-01-10  60.730000\n",
            "6  2022-01-11  61.130001\n",
            "7  2022-01-12  61.180000\n",
            "8  2022-01-13  61.490002\n",
            "9  2022-01-14  61.630001\n",
            "10 2022-01-18  60.910000\n",
            "11 2022-01-19  59.590000\n",
            "12 2022-01-20  59.090000\n",
            "13 2022-01-21  58.150002\n",
            "14 2022-01-24  58.959999\n",
            "15 2022-01-25  58.320000\n",
            "16 2022-01-26  58.650002\n",
            "17 2022-01-27  58.270000\n",
            "18 2022-01-28  58.889999\n",
            "19 2022-01-31  59.660000\n"
          ]
        }
      ]
    },
    {
      "cell_type": "code",
      "source": [
        "# reset index (optional)\n",
        "january_data = january_data.reset_index(drop=True)"
      ],
      "metadata": {
        "id": "hxrxrqt2sRm7"
      },
      "execution_count": 19,
      "outputs": []
    },
    {
      "cell_type": "code",
      "source": [
        "print(january_data.head())"
      ],
      "metadata": {
        "colab": {
          "base_uri": "https://localhost:8080/"
        },
        "id": "8GzrANI5sqmr",
        "outputId": "3840b5d3-a88e-44f9-ac89-84179ba6e93f"
      },
      "execution_count": 20,
      "outputs": [
        {
          "output_type": "stream",
          "name": "stdout",
          "text": [
            "        Date      Close\n",
            "0 2022-01-03  58.099998\n",
            "1 2022-01-04  59.389999\n",
            "2 2022-01-05  58.779999\n",
            "3 2022-01-06  59.360001\n",
            "4 2022-01-07  60.779999\n"
          ]
        }
      ]
    },
    {
      "cell_type": "markdown",
      "source": [
        "Knowledge:\n",
        "- pd.to_datetime() ensures pandas understands the column as dates.\n",
        "- .dt.month == 1 selects only rows from January.\n",
        "- reset_index() cleans up the index after filtering."
      ],
      "metadata": {
        "id": "p3w6bMBOs7ib"
      }
    },
    {
      "cell_type": "markdown",
      "source": [
        "# **Load into the target system**"
      ],
      "metadata": {
        "id": "Fr45HlDeuQ-X"
      }
    },
    {
      "cell_type": "markdown",
      "source": [
        "the target system for this experiment is in Github repo(pipeline-vault)"
      ],
      "metadata": {
        "id": "X3Qn_dadunwq"
      }
    },
    {
      "cell_type": "code",
      "source": [
        "# Save locally\n",
        "january_data.to_csv(\"january_data.csv\", index=False)"
      ],
      "metadata": {
        "id": "HX4wT0ivuyiu"
      },
      "execution_count": 21,
      "outputs": []
    },
    {
      "cell_type": "markdown",
      "source": [
        "# **Setup Configuration for the target System**"
      ],
      "metadata": {
        "id": "YpVlGsI82QP8"
      }
    },
    {
      "cell_type": "markdown",
      "source": [
        "Working using Bash in Colab"
      ],
      "metadata": {
        "id": "SaFpdMFQ2aep"
      }
    },
    {
      "cell_type": "code",
      "source": [
        "# @title\n",
        "#Set Git Identity\n",
        "!git config --global user.name \"xxxxxxxx\"\n",
        "!git config --global user.email \"xxxxxxxxxxx@gmail.com\""
      ],
      "metadata": {
        "id": "p3qxIRBHxg1r"
      },
      "execution_count": 24,
      "outputs": []
    },
    {
      "cell_type": "markdown",
      "source": [
        "**Generate a Personal Access Token (PAT)**\n",
        "\n",
        "Go to GitHub → Settings → Developer settings → Personal access tokens → Tokens (classic) → Generate new token\n",
        ".\n",
        "- Set Expiration (your choice, e.g., 30 days).\n",
        "- Select repo scope (for full repo access).\n",
        "- Click Generate token and copy it.\n",
        "- Treat this token like a password—it gives access to your GitHub account."
      ],
      "metadata": {
        "id": "Uag0WTam3TKZ"
      }
    },
    {
      "cell_type": "code",
      "source": [
        "#Authenticate Github - Use token in the repo URL\n",
        "!git clone https://Shazizan:<TOKEN-TO-BE-REPLACE>@github.com/Shazizan/pipeline-vault.git"
      ],
      "metadata": {
        "colab": {
          "base_uri": "https://localhost:8080/"
        },
        "id": "RG3iqexezdyT",
        "outputId": "14ef7432-a7e1-4ae8-b203-b43aafc5750e"
      },
      "execution_count": 25,
      "outputs": [
        {
          "output_type": "stream",
          "name": "stdout",
          "text": [
            "Cloning into 'pipeline-vault'...\n",
            "remote: Enumerating objects: 11, done.\u001b[K\n",
            "remote: Counting objects:   9% (1/11)\u001b[K\rremote: Counting objects:  18% (2/11)\u001b[K\rremote: Counting objects:  27% (3/11)\u001b[K\rremote: Counting objects:  36% (4/11)\u001b[K\rremote: Counting objects:  45% (5/11)\u001b[K\rremote: Counting objects:  54% (6/11)\u001b[K\rremote: Counting objects:  63% (7/11)\u001b[K\rremote: Counting objects:  72% (8/11)\u001b[K\rremote: Counting objects:  81% (9/11)\u001b[K\rremote: Counting objects:  90% (10/11)\u001b[K\rremote: Counting objects: 100% (11/11)\u001b[K\rremote: Counting objects: 100% (11/11), done.\u001b[K\n",
            "remote: Compressing objects:  10% (1/10)\u001b[K\rremote: Compressing objects:  20% (2/10)\u001b[K\rremote: Compressing objects:  30% (3/10)\u001b[K\rremote: Compressing objects:  40% (4/10)\u001b[K\rremote: Compressing objects:  50% (5/10)\u001b[K\rremote: Compressing objects:  60% (6/10)\u001b[K\rremote: Compressing objects:  70% (7/10)\u001b[K\rremote: Compressing objects:  80% (8/10)\u001b[K\rremote: Compressing objects:  90% (9/10)\u001b[K\rremote: Compressing objects: 100% (10/10)\u001b[K\rremote: Compressing objects: 100% (10/10), done.\u001b[K\n",
            "remote: Total 11 (delta 1), reused 0 (delta 0), pack-reused 0 (from 0)\u001b[K\n",
            "Receiving objects:   9% (1/11)\rReceiving objects:  18% (2/11)\rReceiving objects:  27% (3/11)\rReceiving objects:  36% (4/11)\rReceiving objects:  45% (5/11)\rReceiving objects:  54% (6/11)\rReceiving objects:  63% (7/11)\rReceiving objects:  72% (8/11)\rReceiving objects:  81% (9/11)\rReceiving objects:  90% (10/11)\rReceiving objects: 100% (11/11)\rReceiving objects: 100% (11/11), 5.52 KiB | 5.52 MiB/s, done.\n",
            "Resolving deltas:   0% (0/1)\rResolving deltas: 100% (1/1)\rResolving deltas: 100% (1/1), done.\n"
          ]
        }
      ]
    },
    {
      "cell_type": "code",
      "source": [
        "#Push CSV\n",
        "!cp january_data.csv pipeline-vault/\n",
        "%cd pipeline-vault\n",
        "!git add january_data.csv\n",
        "!git commit -m \"Add January 2022 data\"\n",
        "!git push origin main"
      ],
      "metadata": {
        "colab": {
          "base_uri": "https://localhost:8080/"
        },
        "id": "dvH4ktLf0V6t",
        "outputId": "45b067f6-47ab-4a67-c9a3-ab89000522d2"
      },
      "execution_count": 26,
      "outputs": [
        {
          "output_type": "stream",
          "name": "stdout",
          "text": [
            "/content/pipeline-vault/pipeline-vault\n",
            "[main f79d84b] Add January 2022 data\n",
            " 1 file changed, 21 insertions(+)\n",
            " create mode 100644 january_data.csv\n",
            "Enumerating objects: 4, done.\n",
            "Counting objects: 100% (4/4), done.\n",
            "Delta compression using up to 2 threads\n",
            "Compressing objects: 100% (3/3), done.\n",
            "Writing objects: 100% (3/3), 505 bytes | 505.00 KiB/s, done.\n",
            "Total 3 (delta 0), reused 0 (delta 0), pack-reused 0\n",
            "To https://github.com/Shazizan/pipeline-vault.git\n",
            "   3c130bd..f79d84b  main -> main\n"
          ]
        }
      ]
    },
    {
      "cell_type": "markdown",
      "source": [
        "# **Check the Git push in Colab**"
      ],
      "metadata": {
        "id": "BNaKj9C61El8"
      }
    },
    {
      "cell_type": "code",
      "source": [
        "!git status"
      ],
      "metadata": {
        "colab": {
          "base_uri": "https://localhost:8080/"
        },
        "id": "ACdqAeil1ADQ",
        "outputId": "c93e9deb-0047-4d8d-9138-c351bd10f3cd"
      },
      "execution_count": 27,
      "outputs": [
        {
          "output_type": "stream",
          "name": "stdout",
          "text": [
            "On branch main\n",
            "Your branch is up to date with 'origin/main'.\n",
            "\n",
            "nothing to commit, working tree clean\n"
          ]
        }
      ]
    },
    {
      "cell_type": "markdown",
      "source": [
        "# **Verify at the Target System**"
      ],
      "metadata": {
        "id": "jPiExS1X1fDD"
      }
    },
    {
      "cell_type": "markdown",
      "source": [
        "- Go to your target repo (pipeline-vault) on GitHub in a browser.\n",
        "- Check that january_data.csv is there.\n",
        "- Confirm that the commit message matches your push, e.g., \"Add January 2022 data\""
      ],
      "metadata": {
        "id": "LMErruhx1-B7"
      }
    }
  ]
}